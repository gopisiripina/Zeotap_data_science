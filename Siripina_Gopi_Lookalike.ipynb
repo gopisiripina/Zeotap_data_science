{
  "nbformat": 4,
  "nbformat_minor": 0,
  "metadata": {
    "colab": {
      "provenance": []
    },
    "kernelspec": {
      "name": "python3",
      "display_name": "Python 3"
    },
    "language_info": {
      "name": "python"
    }
  },
  "cells": [
    {
      "cell_type": "code",
      "execution_count": null,
      "metadata": {
        "id": "xAgM6ARvzicE"
      },
      "outputs": [],
      "source": [
        "import pandas as pd\n",
        "from sklearn.preprocessing import StandardScaler\n",
        "from sklearn.metrics.pairwise import cosine_similarity\n"
      ]
    },
    {
      "cell_type": "code",
      "source": [
        "customers = pd.read_csv('Customers.csv')\n",
        "transactions = pd.read_csv('Transactions.csv')\n",
        "products = pd.read_csv('Products.csv')"
      ],
      "metadata": {
        "id": "4ZBz0CxyzrjO"
      },
      "execution_count": null,
      "outputs": []
    },
    {
      "cell_type": "code",
      "source": [
        "merged_df = transactions.merge(customers, on='CustomerID').merge(products, on='ProductID')\n"
      ],
      "metadata": {
        "id": "ITr90x_Ozswb"
      },
      "execution_count": null,
      "outputs": []
    },
    {
      "cell_type": "code",
      "source": [
        "print(merged_df.columns)\n"
      ],
      "metadata": {
        "colab": {
          "base_uri": "https://localhost:8080/"
        },
        "id": "p0vamEzgzuD-",
        "outputId": "0bfd5164-ae70-4e9a-fc06-ec452f98b17d"
      },
      "execution_count": null,
      "outputs": [
        {
          "output_type": "stream",
          "name": "stdout",
          "text": [
            "Index(['TransactionID', 'CustomerID', 'ProductID', 'TransactionDate',\n",
            "       'Quantity', 'TotalValue', 'Price_x', 'CustomerName', 'Region',\n",
            "       'SignupDate', 'ProductName', 'Category', 'Price_y'],\n",
            "      dtype='object')\n"
          ]
        }
      ]
    },
    {
      "cell_type": "code",
      "source": [
        "customer_features = merged_df.groupby('CustomerID').agg({\n",
        "    'TotalValue': 'sum',\n",
        "    'Quantity': 'sum',\n",
        "    'Price_x': 'mean',\n",
        "    'Category': lambda x: x.mode()[0],\n",
        "    'Region': lambda x: x.mode()[0]\n",
        "}).reset_index()\n"
      ],
      "metadata": {
        "id": "vWla_npUzvi3"
      },
      "execution_count": null,
      "outputs": []
    },
    {
      "cell_type": "code",
      "source": [
        "customer_features = pd.get_dummies(customer_features, columns=['Category', 'Region'], drop_first=True)\n"
      ],
      "metadata": {
        "id": "E7KuNOQrzxBb"
      },
      "execution_count": null,
      "outputs": []
    },
    {
      "cell_type": "code",
      "source": [
        "scaler = StandardScaler()\n",
        "customer_features_scaled = scaler.fit_transform(customer_features.drop(columns=['CustomerID']))\n"
      ],
      "metadata": {
        "id": "ZfkM2hjIzyjv"
      },
      "execution_count": null,
      "outputs": []
    },
    {
      "cell_type": "code",
      "source": [
        "similarity_matrix = cosine_similarity(customer_features_scaled)\n"
      ],
      "metadata": {
        "id": "N_PQO5iJzz9K"
      },
      "execution_count": null,
      "outputs": []
    },
    {
      "cell_type": "code",
      "source": [
        "def get_top_3_lookalikes(customer_id, customer_features_df, similarity_matrix):\n",
        "    index = customer_features_df[customer_features_df['CustomerID'] == customer_id].index[0]\n",
        "    sim_scores = list(enumerate(similarity_matrix[index]))\n",
        "    sim_scores = sorted(sim_scores, key=lambda x: x[1], reverse=True)\n",
        "    top_3_customers = [(customer_features_df.iloc[i[0]]['CustomerID'], round(i[1], 2)) for i in sim_scores[1:4]]\n",
        "    return top_3_customers\n"
      ],
      "metadata": {
        "id": "rc96n_mBz1g3"
      },
      "execution_count": null,
      "outputs": []
    },
    {
      "cell_type": "code",
      "source": [
        "lookalike_results = {}\n",
        "\n",
        "for cust_id in customers['CustomerID'][:20]:\n",
        "    lookalike_results[cust_id] = get_top_3_lookalikes(cust_id, customer_features, similarity_matrix)\n"
      ],
      "metadata": {
        "id": "437TS1aQz2-K"
      },
      "execution_count": null,
      "outputs": []
    },
    {
      "cell_type": "code",
      "source": [
        "lookalike_df = pd.DataFrame.from_dict(lookalike_results, orient='index', columns=['Lookalike1', 'Lookalike2', 'Lookalike3'])\n",
        "lookalike_df.to_csv('Siripina_Gopi_Lookalike.csv')\n",
        "\n",
        "print(\"Lookalike recommendations saved to Siripina_Gopi_Lookalike.csv\")\n"
      ],
      "metadata": {
        "colab": {
          "base_uri": "https://localhost:8080/"
        },
        "id": "iVTtBwIWz4Rd",
        "outputId": "5d9b10a3-3e8e-4ec1-8998-e64e6152a6e5"
      },
      "execution_count": null,
      "outputs": [
        {
          "output_type": "stream",
          "name": "stdout",
          "text": [
            "Lookalike recommendations saved to Siripina_Gopi_Lookalike.csv\n"
          ]
        }
      ]
    },
    {
      "cell_type": "code",
      "source": [],
      "metadata": {
        "id": "4rYShenL0A0u"
      },
      "execution_count": null,
      "outputs": []
    }
  ]
}